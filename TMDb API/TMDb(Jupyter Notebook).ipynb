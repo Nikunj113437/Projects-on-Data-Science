{
 "cells": [
  {
   "cell_type": "markdown",
   "id": "676fdf94",
   "metadata": {},
   "source": [
    "### Quest 1\n",
    "\n",
    "Find the 'id' of the movie \"Andhadhun\" using TMDb API."
   ]
  },
  {
   "cell_type": "code",
   "execution_count": 1,
   "id": "efb9a13c",
   "metadata": {},
   "outputs": [
    {
     "name": "stdout",
     "output_type": "stream",
     "text": [
      "200\n",
      "https://api.themoviedb.org/3/search/movie?api_key=26b75243d82286107860a87b4cbc6259&query=Andhadhun\n",
      "534780\n"
     ]
    }
   ],
   "source": [
    "import requests\n",
    "import json\n",
    "\n",
    "a=requests.get('https://api.themoviedb.org/3/search/movie?api_key=26b75243d82286107860a87b4cbc6259&query=Andhadhun')\n",
    "print(a.status_code)\n",
    "print(a.url)\n",
    "p_data=a.json()\n",
    "\n",
    "print(p_data['results'][0]['id'])\n",
    "    "
   ]
  },
  {
   "cell_type": "markdown",
   "id": "baaf48f3",
   "metadata": {},
   "source": [
    "### Quest 2\n",
    "\n",
    "Fetch the company id company 'Marvel Studios' using TMDb. Print the id."
   ]
  },
  {
   "cell_type": "code",
   "execution_count": 24,
   "id": "5fa9ccc8",
   "metadata": {},
   "outputs": [
    {
     "name": "stdout",
     "output_type": "stream",
     "text": [
      "200\n",
      "https://api.themoviedb.org/3/search/company?api_key=26b75243d82286107860a87b4cbc6259&query=Marvel%20Studios&page=1\n",
      "420\n"
     ]
    }
   ],
   "source": [
    "import requests\n",
    "import json\n",
    "\n",
    "a=requests.get('https://api.themoviedb.org/3/search/company?api_key=26b75243d82286107860a87b4cbc6259&query=Marvel%20Studios&page=1')\n",
    "# print(a.status_code)\n",
    "# print(a.url)\n",
    "\n",
    "p_data=a.json()\n",
    "print(p_data['results'][0]['id'])"
   ]
  },
  {
   "cell_type": "markdown",
   "id": "2b58b3b5",
   "metadata": {},
   "source": [
    "### Quest 3\n",
    "\n",
    "Find the vote count and vote average of the movie \"3 Idiots\" using the TMDb API"
   ]
  },
  {
   "cell_type": "code",
   "execution_count": 26,
   "id": "0dcd0a9f",
   "metadata": {},
   "outputs": [
    {
     "name": "stdout",
     "output_type": "stream",
     "text": [
      "200\n",
      "https://api.themoviedb.org/3/search/movie?api_key=26b75243d82286107860a87b4cbc6259&query=3%20Idiots&page=1\n",
      "1853 8\n"
     ]
    }
   ],
   "source": [
    "import requests\n",
    "import json\n",
    "\n",
    "a=requests.get('https://api.themoviedb.org/3/search/movie?api_key=26b75243d82286107860a87b4cbc6259&query=3%20Idiots&page=1')\n",
    "print(a.status_code)\n",
    "print(a.url)\n",
    "\n",
    "p_data=a.json()\n",
    "print(p_data['results'][0]['vote_count'],p_data['results'][0]['vote_average'])"
   ]
  },
  {
   "cell_type": "markdown",
   "id": "3ba7d26a",
   "metadata": {},
   "source": [
    "### Quest 4\n",
    "\n",
    "Fetch the names of top 5 similar movies to 'Inception' from the TMDb API."
   ]
  },
  {
   "cell_type": "code",
   "execution_count": 53,
   "id": "1fb126a1",
   "metadata": {},
   "outputs": [
    {
     "name": "stdout",
     "output_type": "stream",
     "text": [
      "200\n",
      "https://api.themoviedb.org/3/movie/846190/similar?api_key=26b75243d82286107860a87b4cbc6259&language=en-US&page=1\n",
      "Inception\n",
      "Kids\n",
      "Caligula\n",
      "EverAfter\n",
      "Maverick\n"
     ]
    }
   ],
   "source": [
    "#Movie id is find out by 1st question(search movie by its name)\n",
    "#Inception->846190\n",
    "import requests\n",
    "import json\n",
    "a=requests.get('https://api.themoviedb.org/3/movie/846190/similar?api_key=26b75243d82286107860a87b4cbc6259&language=en-US&page=1')\n",
    "print(a.status_code)\n",
    "print(a.url)\n",
    "p_data=a.json()\n",
    "\n",
    "i=0\n",
    "for j in p_data['results']:\n",
    "    if i==5:\n",
    "        break\n",
    "    print(j['title'])\n",
    "    i+=1\n"
   ]
  },
  {
   "cell_type": "markdown",
   "id": "c3a0af0e",
   "metadata": {},
   "source": [
    "### Quest 5\n",
    "\n",
    "Fetch the top rated english movies in the US region using the TMDb API. From the result, print the first 10 movies which have original language as english. Also print their genres."
   ]
  },
  {
   "cell_type": "code",
   "execution_count": 65,
   "id": "4351d168",
   "metadata": {},
   "outputs": [
    {
     "name": "stdout",
     "output_type": "stream",
     "text": [
      "200\n",
      "https://api.themoviedb.org/3/movie/top_rated?api_key=26b75243d82286107860a87b4cbc6259&language=english&page=1&region=US\n",
      "The Shawshank Redemption - Drama, Crime, \n",
      "The Godfather - Drama, Crime, \n",
      "Schindler's List - Drama, History, War, \n",
      "The Godfather: Part II - Drama, Crime, \n",
      "Gabriel's Inferno - Romance, \n",
      "12 Angry Men - Drama, \n",
      "Gabriel's Inferno: Part II - Romance, \n",
      "The Green Mile - Fantasy, Drama, Crime, \n",
      "The Dark Knight - Drama, Action, Crime, Thriller, \n",
      "Gabriel's Inferno: Part III - Romance, Comedy, \n"
     ]
    }
   ],
   "source": [
    "import requests\n",
    "import json\n",
    "a=requests.get('https://api.themoviedb.org/3/movie/top_rated?api_key=26b75243d82286107860a87b4cbc6259&language=english&page=1&region=US')\n",
    "print(a.status_code)\n",
    "print(a.url)\n",
    "\n",
    "p_data1=a.json()\n",
    "i=0\n",
    "for j in p_data1['results']:\n",
    "    if i==10:\n",
    "        break\n",
    "    if j['original_language']=='en':\n",
    "        print(j['title'],end=\" - \")\n",
    "        b=requests.get('https://api.themoviedb.org/3/genre/movie/list?api_key=26b75243d82286107860a87b4cbc6259&language=en-US')\n",
    "        p_data2=b.json()\n",
    "        for k in j['genre_ids']:\n",
    "            for x in p_data2['genres']:\n",
    "                if x['id']==k:\n",
    "                    print(x['name'],end=\", \")\n",
    "                    break\n",
    "        print()\n",
    "        i+=1\n",
    "        \n",
    "        "
   ]
  },
  {
   "cell_type": "markdown",
   "id": "810ce11c",
   "metadata": {},
   "source": [
    "### Quest 6\n",
    "\n",
    "Find the name and birthplace of the present most popular person according to TMDb API."
   ]
  },
  {
   "cell_type": "code",
   "execution_count": 103,
   "id": "f889326a",
   "metadata": {},
   "outputs": [
    {
     "name": "stdout",
     "output_type": "stream",
     "text": [
      "200\n",
      "https://api.themoviedb.org/3/search/person?api_key=26b75243d82286107860a87b4cbc6259&query=Rowan%20Atkinson\n",
      "10730\n",
      "aliaabhatt Aliaa08\n"
     ]
    }
   ],
   "source": [
    "# import requests\n",
    "# import json\n",
    "# a=requests.get('https://api.themoviedb.org/3/search/person?api_key=26b75243d82286107860a87b4cbc6259&query=Alia%20Bhatt&region=IN')\n",
    "# print(a.status_code)\n",
    "# print(a.url)\n",
    "\n",
    "# print(a.json()['results'][0]['id']) --->   #1108120\n",
    "\n",
    "\n",
    "import requests\n",
    "import json\n",
    "a=requests.get('https://api.themoviedb.org/3/person/1108120/external_ids?api_key=26b75243d82286107860a87b4cbc6259')\n",
    "# print(a.status_code)\n",
    "# print(a.url)\n",
    "\n",
    "p_data=a.json()\n",
    "print(p_data['instagram_id'],p_data['twitter_id'])"
   ]
  },
  {
   "cell_type": "markdown",
   "id": "f2e3caeb",
   "metadata": {},
   "source": [
    "### Quest 7\n",
    "\n",
    "Fetch the Instagram and Twitter handle of Indian Actress \"Alia Bhatt\" from the TMDb API."
   ]
  },
  {
   "cell_type": "code",
   "execution_count": 2,
   "id": "6543507e",
   "metadata": {},
   "outputs": [
    {
     "name": "stdout",
     "output_type": "stream",
     "text": [
      "200\n",
      "https://api.themoviedb.org/3/person/popular?api_key=26b75243d82286107860a87b4cbc6259&language=en-US&page=1\n",
      "86654\n",
      "Austin Butler - Anaheim, California, USA\n"
     ]
    }
   ],
   "source": [
    "import requests\n",
    "import json\n",
    "a=requests.get('https://api.themoviedb.org/3/person/popular?api_key=26b75243d82286107860a87b4cbc6259&language=en-US&page=1')\n",
    "print(a.status_code)\n",
    "print(a.url)\n",
    "p_data=a.json()\n",
    "print(p_data['results'][0]['id'])\n",
    "print(p_data['results'][0]['name'],end=\" - \")\n",
    "\n",
    "#in order to fetch birth place\n",
    "a=requests.get('https://api.themoviedb.org/3/person/86654?api_key=26b75243d82286107860a87b4cbc6259&language=en-US')\n",
    "p_data=a.json()\n",
    "print(p_data['place_of_birth'])"
   ]
  },
  {
   "cell_type": "markdown",
   "id": "87ec9d2f",
   "metadata": {},
   "source": [
    "### Quest 8\n",
    "\n",
    "Fetch the names of the character played by Tom Cruise in the movies:\n",
    "\n",
    "Top Gun\n",
    "\n",
    "Mission: Impossible - Fallout\n",
    "\n",
    "Minority Report\n",
    "\n",
    "Edge of Tomorrow"
   ]
  },
  {
   "cell_type": "code",
   "execution_count": 108,
   "id": "e2cb99c4",
   "metadata": {},
   "outputs": [
    {
     "name": "stdout",
     "output_type": "stream",
     "text": [
      "200\n",
      "https://api.themoviedb.org/3/person/500/movie_credits?api_key=26b75243d82286107860a87b4cbc6259&language=en-US\n",
      "Lt. Pete 'Maverick' Mitchell\n",
      "Ethan Hunt\n",
      "Chief John Anderton\n",
      "Maj. William 'Bill' Cage\n"
     ]
    }
   ],
   "source": [
    "# import requests\n",
    "# import json\n",
    "# a=requests.get('https://api.themoviedb.org/3/search/person?api_key=26b75243d82286107860a87b4cbc6259&query=Tom%20Cruise')\n",
    "# print(a.status_code)\n",
    "# print(a.url)\n",
    "\n",
    "# print(a.json()['results'][0]['id']) --->500\n",
    "\n",
    "\n",
    "import requests\n",
    "import json\n",
    "a=requests.get('https://api.themoviedb.org/3/person/500/movie_credits?api_key=26b75243d82286107860a87b4cbc6259&language=en-US')\n",
    "# print(a.status_code)\n",
    "# print(a.url)\n",
    "p_data=a.json()\n",
    "dict={}\n",
    "for i in p_data['cast']:\n",
    "    if i['title']=='Top Gun':\n",
    "        dict[i['title']]=i['character']\n",
    "        \n",
    "    if i['title']=='Mission: Impossible - Fallout':\n",
    "        dict[i['title']]=i['character']\n",
    "    \n",
    "    if i['title']=='Minority Report':\n",
    "        dict[i['title']]=i['character']\n",
    "\n",
    "    if i['title']=='Edge of Tomorrow':\n",
    "        dict[i['title']]=i['character']\n",
    "        \n",
    "print(dict['Top Gun'])\n",
    "print(dict['Mission: Impossible - Fallout'])\n",
    "print(dict['Minority Report'])\n",
    "print(dict['Edge of Tomorrow'])"
   ]
  },
  {
   "cell_type": "markdown",
   "id": "a195b085",
   "metadata": {},
   "source": [
    "### Quest 9\n",
    "\n",
    "Did James McAvoy play a role in the movie Deadpool 2. Print Yes or No."
   ]
  },
  {
   "cell_type": "code",
   "execution_count": 121,
   "id": "80badc42",
   "metadata": {},
   "outputs": [
    {
     "name": "stdout",
     "output_type": "stream",
     "text": [
      "200\n",
      "https://api.themoviedb.org/3/movie/383498/credits?api_key=26b75243d82286107860a87b4cbc6259&language=en-US\n",
      "Yes\n"
     ]
    }
   ],
   "source": [
    "import requests\n",
    "import json\n",
    "a=requests.get('https://api.themoviedb.org/3/movie/383498/credits?api_key=26b75243d82286107860a87b4cbc6259&language=en-US')\n",
    "print(a.status_code)\n",
    "print(a.url)\n",
    "p_data=a.json()\n",
    "\n",
    "flag=False\n",
    "for i in p_data['cast']:\n",
    "    if i['name']=='James McAvoy':\n",
    "        print(\"Yes\")\n",
    "        flag=True\n",
    "        break\n",
    "if flag==False:\n",
    "    print(\"No\")"
   ]
  },
  {
   "cell_type": "markdown",
   "id": "e0e90fb5",
   "metadata": {},
   "source": [
    "### Quest 10\n",
    "\n",
    "Using the result obtained in previous question, find out if James McAvoy was credited for his role in movie Deadpool 2. Print Yes or No."
   ]
  },
  {
   "cell_type": "code",
   "execution_count": 133,
   "id": "54cbd6a9",
   "metadata": {},
   "outputs": [
    {
     "name": "stdout",
     "output_type": "stream",
     "text": [
      "200\n",
      "https://api.themoviedb.org/3/person/5530/movie_credits?api_key=26b75243d82286107860a87b4cbc6259&language=en-US\n",
      "No\n"
     ]
    }
   ],
   "source": [
    "# import requests\n",
    "# import json\n",
    "# a=requests.get('https://api.themoviedb.org/3/search/person?api_key=26b75243d82286107860a87b4cbc6259&query=James%20McAvoy&region=IN')\n",
    "# print(a.status_code)\n",
    "# print(a.url)\n",
    "\n",
    "# print(a.json()['results'][0]['id']) --->5530\n",
    "\n",
    "import requests\n",
    "import json\n",
    "a=requests.get('https://api.themoviedb.org/3/person/5530/movie_credits?api_key=26b75243d82286107860a87b4cbc6259&language=en-US')\n",
    "print(a.status_code)\n",
    "print(a.url)\n",
    "p_data=a.json()\n",
    "\n",
    "flag=False\n",
    "for i in p_data['cast']:\n",
    "    if i['title']=='Deadpool 2':\n",
    "        if \"uncredited\" in i['character']:\n",
    "            print('No')\n",
    "            flag=True\n",
    "            break\n",
    "if flag==False:\n",
    "    print(\"Yes\")\n"
   ]
  },
  {
   "cell_type": "markdown",
   "id": "692cbeaa",
   "metadata": {},
   "source": [
    "### Quest 11\n",
    "\n",
    "Fetch the overview of the TV Show \"FRIENDS\" using TMDb API."
   ]
  },
  {
   "cell_type": "code",
   "execution_count": 3,
   "id": "964ebb87",
   "metadata": {},
   "outputs": [
    {
     "name": "stdout",
     "output_type": "stream",
     "text": [
      "200\n",
      "https://api.themoviedb.org/3/search/tv?api_key=26b75243d82286107860a87b4cbc6259&page=1&query=FRIENDS\n",
      "Friends is an American television sitcom created by David Crane and Marta Kauffman, which aired on NBC from September 22, 1994, to May 6, 2004, lasting ten seasons. With an ensemble cast starring Jennifer Aniston, Courteney Cox, Lisa Kudrow, Matt LeBlanc, Matthew Perry and David Schwimmer, the show revolves around six friends in their 20s and 30s who live in Manhattan, New York City. The series was produced by Bright/Kauffman/Crane Productions, in association with Warner Bros. Television. The original executive producers were Kevin S. Bright, Kauffman, and Crane.\n"
     ]
    }
   ],
   "source": [
    "#search tv show by name to get id\n",
    "import requests\n",
    "import json\n",
    "a=requests.get('https://api.themoviedb.org/3/search/tv?api_key=26b75243d82286107860a87b4cbc6259&page=1&query=FRIENDS')\n",
    "# print(a.status_code)\n",
    "# print(a.url)\n",
    "\n",
    "p_data=a.json()\n",
    "print(p_data['results'][0]['overview'])\n",
    "\n"
   ]
  },
  {
   "cell_type": "markdown",
   "id": "e2d47ecf",
   "metadata": {},
   "source": [
    "### Quest 12\n",
    "\n",
    "Fetch the name and air date of S06E05 of the TV Show 'The Big Bang Theory' from TMDb API."
   ]
  },
  {
   "cell_type": "code",
   "execution_count": 7,
   "id": "ff9ad36f",
   "metadata": {},
   "outputs": [
    {
     "name": "stdout",
     "output_type": "stream",
     "text": [
      "200\n",
      "https://api.themoviedb.org/3/tv/1418/season/6?api_key=26b75243d82286107860a87b4cbc6259&language=en-US\n",
      "The Holographic Excitation  -  2012-10-25\n"
     ]
    }
   ],
   "source": [
    "# #search tv show by name to get id\n",
    "# import requests\n",
    "# import json\n",
    "# a=requests.get('https://api.themoviedb.org/3/search/tv?api_key=26b75243d82286107860a87b4cbc6259&page=1&query=The%20Big%20Bang%20Theory')\n",
    "# print(a.status_code)\n",
    "# print(a.url)\n",
    "\n",
    "# p_data=a.json()\n",
    "# print(p_data['results'][0]['id'])   -->1418\n",
    "\n",
    "import requests\n",
    "import json\n",
    "a=requests.get('https://api.themoviedb.org/3/tv/1418/season/6?api_key=26b75243d82286107860a87b4cbc6259&language=en-US')\n",
    "print(a.status_code)\n",
    "print(a.url)\n",
    "\n",
    "p_data=a.json()\n",
    "for i in p_data['episodes']:\n",
    "    if i['episode_number']==5:\n",
    "        print(i['name'],\" - \",i['air_date'])\n",
    "        \n"
   ]
  },
  {
   "cell_type": "markdown",
   "id": "2c93b019",
   "metadata": {},
   "source": [
    "### Quest 13\n",
    "\n",
    "Fetch the trending TV Shows for the week from the TMDb API and print the taglines of the top 5 shows. If there is no tagline, print 'Empty' instead"
   ]
  },
  {
   "cell_type": "code",
   "execution_count": 27,
   "id": "fd73f7a3",
   "metadata": {},
   "outputs": [
    {
     "name": "stdout",
     "output_type": "stream",
     "text": [
      "200\n",
      "https://api.themoviedb.org/3/trending/tv/week?api_key=26b75243d82286107860a87b4cbc6259\n",
      "Between darkness and defeat, hope survives.\n",
      "Witness a heist like no other.\n",
      "Never meet your heroes.\n",
      "The future is in her hands.\n",
      "Every ending has a beginning.\n"
     ]
    }
   ],
   "source": [
    "import requests\n",
    "import json\n",
    "a=requests.get('https://api.themoviedb.org/3/trending/tv/week?api_key=26b75243d82286107860a87b4cbc6259')\n",
    "print(a.status_code)\n",
    "print(a.url)\n",
    "\n",
    "p_data1=a.json()\n",
    "i=0\n",
    "for j in p_data1['results']:\n",
    "    if i==5:\n",
    "        break\n",
    "    ids=j['id']\n",
    "    url='https://api.themoviedb.org/3/tv/'+str(ids)+'?api_key=26b75243d82286107860a87b4cbc6259'\n",
    "    b=requests.get(url)\n",
    "    p_data2=b.json()\n",
    "    if p_data2['tagline']!='':\n",
    "        print(p_data2['tagline'])\n",
    "    else:\n",
    "        print(\"Empty\")\n",
    "        \n",
    "    i+=1\n",
    "\n"
   ]
  },
  {
   "cell_type": "markdown",
   "id": "278a0269",
   "metadata": {},
   "source": [
    "### Quest 14\n",
    "\n",
    "Print the names of all the TV shows to be aired today whose original language is english."
   ]
  },
  {
   "cell_type": "code",
   "execution_count": 31,
   "id": "b0a7ec10",
   "metadata": {},
   "outputs": [
    {
     "name": "stdout",
     "output_type": "stream",
     "text": [
      "200\n",
      "https://api.themoviedb.org/3/tv/airing_today?api_key=26b75243d82286107860a87b4cbc6259&language=english&page=1\n",
      "Superman & Lois\n",
      "Love Island\n",
      "The Tonight Show Starring Jimmy Fallon\n",
      "Emmerdale\n",
      "PBS NewsHour\n",
      "Hollyoaks\n",
      "The Daily Show with Trevor Noah\n",
      "Only Murders in the Building\n",
      "MasterChef Australia\n",
      "General Hospital\n",
      "Wheel of Fortune\n",
      "The Bold and the Beautiful\n",
      "BBC World News America\n",
      "America Says\n",
      "The Late Show with Stephen Colbert\n",
      "Late Night with Seth Meyers\n",
      "Motherland: Fort Salem\n",
      "EastEnders\n",
      "Home and Away\n",
      "Jeopardy!\n",
      "The Kelly Clarkson Show\n",
      "America's Got Talent\n",
      "Shortland Street\n",
      "Catfish: The TV Show\n",
      "The View\n",
      "The Future Of\n",
      "Jimmy Kimmel Live!\n",
      "Deadliest Catch\n",
      "The Secret of Skinwalker Ranch\n",
      "Sherwood\n",
      "Miss Scarlet and the Duke\n",
      "All Rise\n",
      "Nick Cannon Presents: Wild 'N Out\n",
      "WWE NXT\n",
      "Little People, Big World\n",
      "Days of Our Lives\n",
      "Tom Swift\n",
      "The Ultimate Fighter\n",
      "The Late Late Show with James Corden\n",
      "AEW Dark\n",
      "House Hunters\n",
      "My Coach\n",
      "Hiding in Plain Sight: Youth Mental Illness\n",
      "The Twelve\n",
      "Charmers\n",
      "37 Words\n",
      "The Bridge\n",
      "Dark Side of the 90's\n",
      "Body Cam\n",
      "Big Brother Australia\n",
      "Welcome to Plathville\n",
      "Dancing with Myself\n",
      "Honest Trailers\n",
      "Unsellable Houses\n",
      "Dateline: The Last Day\n",
      "Origins of Hip Hop\n",
      "Neighbours\n",
      "UFO Witness\n",
      "Let's Make a Deal\n",
      "Oops! Mr.Superstar Hit on Me\n",
      "Frontline Fightback\n",
      "Ellie & Natasia\n",
      "Gravity Falls: The Magic Begins\n",
      "The Cheap Seats\n",
      "The ReidOut\n",
      "Gaatchora\n",
      "Dilema\n"
     ]
    }
   ],
   "source": [
    "import requests\n",
    "import json\n",
    "a=requests.get('https://api.themoviedb.org/3/tv/airing_today?api_key=26b75243d82286107860a87b4cbc6259&language=english&page=1')\n",
    "print(a.status_code)\n",
    "print(a.url)\n",
    "total_result=[]\n",
    "p_data=a.json()\n",
    "total_result=total_result+p_data['results']\n",
    "for page_num in range(2,p_data['total_pages']+1):\n",
    "    url='https://api.themoviedb.org/3/tv/airing_today?api_key=26b75243d82286107860a87b4cbc6259&language=english&page='+str(page_num)\n",
    "    a=requests.get(url)\n",
    "    p_data=a.json()\n",
    "    total_result=total_result+p_data['results']\n",
    "\n",
    "for i in total_result:\n",
    "    if i['original_language']=='en':\n",
    "        print(i['name'])\n"
   ]
  },
  {
   "cell_type": "markdown",
   "id": "b47f33ef",
   "metadata": {},
   "source": [
    "### Quest 15\n",
    "\n",
    "Count the number of males and females in the cast of \"Money Heist\" using the TMDb API."
   ]
  },
  {
   "cell_type": "code",
   "execution_count": 34,
   "id": "dfebb611",
   "metadata": {},
   "outputs": [
    {
     "name": "stdout",
     "output_type": "stream",
     "text": [
      "200\n",
      "https://api.themoviedb.org/3/tv/71446/credits?api_key=26b75243d82286107860a87b4cbc6259\n",
      "10 5\n"
     ]
    }
   ],
   "source": [
    "# # #search tv show by name to get id\n",
    "# import requests\n",
    "# import json\n",
    "# a=requests.get('https://api.themoviedb.org/3/search/tv?api_key=26b75243d82286107860a87b4cbc6259&page=1&query=Money%20Heist')\n",
    "# print(a.status_code)\n",
    "# print(a.url)\n",
    "\n",
    "# p_data=a.json()\n",
    "# print(p_data['results'][0]['id'])   --->71446\n",
    "\n",
    "\n",
    "import requests\n",
    "import json\n",
    "a=requests.get('https://api.themoviedb.org/3/tv/71446/credits?api_key=26b75243d82286107860a87b4cbc6259')\n",
    "# print(a.status_code)\n",
    "# print(a.url)\n",
    "\n",
    "p_data=a.json()\n",
    "count_male=0\n",
    "count_female=0\n",
    "\n",
    "for i in p_data['cast']:\n",
    "    if i['gender']==2:\n",
    "        count_male+=1\n",
    "    if i['gender']==1:\n",
    "        count_female+=1\n",
    "        \n",
    "print(count_male,count_female)\n",
    "\n"
   ]
  }
 ],
 "metadata": {
  "kernelspec": {
   "display_name": "Python 3 (ipykernel)",
   "language": "python",
   "name": "python3"
  },
  "language_info": {
   "codemirror_mode": {
    "name": "ipython",
    "version": 3
   },
   "file_extension": ".py",
   "mimetype": "text/x-python",
   "name": "python",
   "nbconvert_exporter": "python",
   "pygments_lexer": "ipython3",
   "version": "3.9.12"
  }
 },
 "nbformat": 4,
 "nbformat_minor": 5
}
